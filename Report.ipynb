{
 "cells": [
  {
   "cell_type": "code",
   "execution_count": null,
   "metadata": {},
   "outputs": [],
   "source": [
    "import datetime\n",
    "from typing import Union, Tuple\n",
    "from matplotlib import pyplot as plt\n",
    "from IPython.display import display, Markdown as md\n",
    "\n",
    "from systematic.strategies import helper as strategies\n",
    "from notebooks.params import REF_DATE, BT_START_DATE, WEIGHTS, DISTANCE, SSL_STRATS, SHARPE_CHART_CAP, SHARPE_CHART_FLOOR"
   ]
  },
  {
   "cell_type": "code",
   "execution_count": null,
   "metadata": {
    "pycharm": {
     "name": "#%%\n"
    }
   },
   "outputs": [],
   "source": [
    "# Settings for export\n",
    "# *** can safely skip this Cell when running in interactive mode ***\n",
    "\n",
    "import warnings\n",
    "import sylo.com.progress_bar\n",
    "\n",
    "# render chart as image\n",
    "%matplotlib inline\n",
    "warnings.filterwarnings('ignore')  # ignore warning messages\n",
    "sylo.com.progress_bar.GLOBAL_PROGRESS_BAR_ON = False  # switch off progress bar"
   ]
  },
  {
   "cell_type": "code",
   "execution_count": null,
   "metadata": {},
   "outputs": [],
   "source": [
    "# REF_DATE = datetime.date(2021, 1, 1)\n",
    "# BT_START_DATE = datetime.date(2010, 1, 1)\n",
    "print(f'REF_DATE set to {REF_DATE}')\n",
    "REPORT_DATETIME = datetime.datetime.now()\n",
    "print(f'REPORT_DATETIME is {REPORT_DATETIME}')\n",
    "allocation = strategies.get_allocation()"
   ]
  },
  {
   "cell_type": "markdown",
   "metadata": {},
   "source": [
    "## Portfolio"
   ]
  },
  {
   "cell_type": "code",
   "execution_count": null,
   "metadata": {},
   "outputs": [],
   "source": [
    "def get_and_plot(strat: Union[str, Tuple[str]]):\n",
    "    data1 = strategies.get_minmax_envelope(strat, start_date=REF_DATE, envelope_periods=252, backtest_allocation=WEIGHTS, backtest_start_date= BT_START_DATE)\n",
    "    data2 = strategies.get_minmax_envelope(strat, start_date=REF_DATE, envelope_periods=252, backtest_allocation=WEIGHTS, backtest_start_date= BT_START_DATE, backtest_condition_value_range=DISTANCE)\n",
    "    data2 = data2.loc[datetime.date.today():datetime.date(datetime.date.today().year,12,31)]\n",
    "    data3 = strategies.get_sharpe_envelope(strat, start_date=REF_DATE, envelope_periods=252, backtest_allocation=WEIGHTS, backtest_start_date= BT_START_DATE)\n",
    "    data3.clip(lower=SHARPE_CHART_FLOOR, upper=SHARPE_CHART_CAP, inplace=True)\n",
    "    fig, (ax1, ax2, ax3) = plt.subplots(nrows=1, ncols=3, figsize=(12, 5))\n",
    "    fig.tight_layout()\n",
    "    _ = data1.plot(title=SSL_STRATS.get(strat), color='rgybcm', ax=ax1)\n",
    "    ax1.grid(axis='y', linestyle='--')\n",
    "    _ = data2.plot(title=SSL_STRATS.get(strat), color='rgybcm', ax=ax2)\n",
    "    ax2.grid(axis='y', linestyle='--')\n",
    "    _ = data3.plot(title=SSL_STRATS.get(strat), color='rgybcm', ax=ax3)\n",
    "    ax3.grid(axis='y', linestyle='--')\n",
    "    plt.show()"
   ]
  },
  {
   "cell_type": "code",
   "execution_count": null,
   "metadata": {},
   "outputs": [],
   "source": [
    "PORTFOLIO = tuple(WEIGHTS)\n",
    "get_and_plot(PORTFOLIO)"
   ]
  },
  {
   "cell_type": "code",
   "execution_count": null,
   "metadata": {},
   "outputs": [],
   "source": [
    "REF_END_DATE = datetime.date(REF_DATE.year, 12, 31)\n",
    "display(strategies.get_bt_hist(PORTFOLIO, start_date=REF_DATE, end_date=REF_END_DATE, backtest_allocation=WEIGHTS, backtest_start_date=BT_START_DATE, backtest_condition_value_range=DISTANCE))"
   ]
  },
  {
   "cell_type": "markdown",
   "metadata": {},
   "source": [
    "## Individual Strategies"
   ]
  },
  {
   "cell_type": "code",
   "execution_count": null,
   "metadata": {},
   "outputs": [],
   "source": [
    "for strat in WEIGHTS:\n",
    "    get_and_plot(strat)"
   ]
  },
  {
   "cell_type": "code",
   "execution_count": null,
   "metadata": {},
   "outputs": [],
   "source": [
    "display(md(f'### Projected P&L Distribution on {REF_END_DATE}'))"
   ]
  },
  {
   "cell_type": "code",
   "execution_count": null,
   "metadata": {},
   "outputs": [],
   "source": [
    "data5 = strategies.get_bt_hist(PORTFOLIO, start_date=REF_DATE, end_date=REF_END_DATE, backtest_allocation=WEIGHTS, backtest_start_date=BT_START_DATE, backtest_condition_value_range=DISTANCE, return_raw=True)\n",
    "_ = data5.hist(figsize=(12, 12))"
   ]
  }
 ],
 "metadata": {
  "kernelspec": {
   "display_name": "Python 3",
   "language": "python",
   "name": "python3"
  },
  "language_info": {
   "codemirror_mode": {
    "name": "ipython",
    "version": 3
   },
   "file_extension": ".py",
   "mimetype": "text/x-python",
   "name": "python",
   "nbconvert_exporter": "python",
   "pygments_lexer": "ipython3",
   "version": "3.7.7"
  }
 },
 "nbformat": 4,
 "nbformat_minor": 1
}
